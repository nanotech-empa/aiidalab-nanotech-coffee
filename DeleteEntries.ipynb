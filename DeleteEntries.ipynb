{
 "cells": [
  {
   "cell_type": "code",
   "execution_count": null,
   "id": "ade765fb",
   "metadata": {},
   "outputs": [],
   "source": [
    "%load_ext aiida\n",
    "%aiida"
   ]
  },
  {
   "cell_type": "code",
   "execution_count": null,
   "id": "61f7f3f2",
   "metadata": {},
   "outputs": [],
   "source": [
    "from datetime import datetime"
   ]
  },
  {
   "cell_type": "code",
   "execution_count": null,
   "id": "f1de6470",
   "metadata": {},
   "outputs": [],
   "source": [
    "def timeconversion(intime):\n",
    "    if isinstance(intime,float):\n",
    "        return datetime.fromtimestamp(intime).strftime(\"%Y-%m-%d\")\n",
    "    else:\n",
    "        return time.mktime(intime.timetuple())"
   ]
  },
  {
   "cell_type": "code",
   "execution_count": null,
   "id": "de4447bc",
   "metadata": {},
   "outputs": [],
   "source": [
    "qb = QueryBuilder()\n",
    "qb.append(CalcFunctionNode, filters={\n",
    "    'label': {'in': ['new_event']}})"
   ]
  },
  {
   "cell_type": "code",
   "execution_count": null,
   "id": "b99345e7",
   "metadata": {},
   "outputs": [],
   "source": [
    "for event in qb.all(flat=True):\n",
    "    print(timeconversion(event.inputs.datei.value),event.inputs.person['name'],event.inputs.description.value, event.pk)"
   ]
  }
 ],
 "metadata": {
  "kernelspec": {
   "display_name": "Python 3 (ipykernel)",
   "language": "python",
   "name": "python3"
  },
  "language_info": {
   "codemirror_mode": {
    "name": "ipython",
    "version": 3
   },
   "file_extension": ".py",
   "mimetype": "text/x-python",
   "name": "python",
   "nbconvert_exporter": "python",
   "pygments_lexer": "ipython3",
   "version": "3.9.13"
  }
 },
 "nbformat": 4,
 "nbformat_minor": 5
}
