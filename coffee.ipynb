{
 "cells": [
  {
   "cell_type": "code",
   "execution_count": null,
   "id": "9f5cd529",
   "metadata": {},
   "outputs": [],
   "source": [
    "%load_ext aiida\n",
    "%aiida"
   ]
  },
  {
   "cell_type": "code",
   "execution_count": null,
   "id": "b500fd8e",
   "metadata": {},
   "outputs": [],
   "source": [
    "# General imports.\n",
    "from copy import deepcopy\n",
    "import numpy as np\n",
    "import re\n",
    "import time\n",
    "from datetime import datetime\n",
    "import ipywidgets as ipw\n",
    "from IPython.display import clear_output\n",
    "\n",
    "from aiida.engine import ExitCode, ToContext, WorkChain, calcfunction,workfunction"
   ]
  },
  {
   "cell_type": "code",
   "execution_count": null,
   "id": "a517d363",
   "metadata": {},
   "outputs": [],
   "source": [
    "style = {'description_width': '160px'}\n",
    "layout = {'width': '40%'}\n",
    "output = ipw.Output()\n",
    "output1 = ipw.Output()\n",
    "output2 = ipw.Output()\n",
    "add_person = ipw.Button(description='Add person')\n",
    "people_html = ipw.HTML()\n",
    "report_html = ipw.HTML()\n",
    "cash_html = ipw.HTML()\n",
    "info_html = ipw.HTML()\n",
    "\n",
    "name = ipw.Text(description='Name or nickname',style=style, layout=layout)\n",
    "email = ipw.Text(description='e-mail',style=style, layout=layout)\n",
    "startdate = ipw.DatePicker(description='Starting from:',value=datetime.now(),style=style, layout=layout)"
   ]
  },
  {
   "cell_type": "code",
   "execution_count": null,
   "id": "1d9cccd2",
   "metadata": {},
   "outputs": [],
   "source": [
    "html_phead = \"\"\"\n",
    "<style type=\"text/css\">\n",
    ".tg  {border-collapse:collapse;border-spacing:0;}\n",
    ".tg td{border-color:black;border-style:solid;border-width:2px;font-family:Arial, sans-serif;font-size:14px;\n",
    "    overflow:hidden;padding:10px 5px;word-break:normal;}\n",
    ".tg th{border-color:black;border-style:solid;border-width:1px;font-family:Arial, sans-serif;font-size:14px;\n",
    "    font-weight:normal;overflow:hidden;padding:10px 5px;word-break:normal;}\n",
    ".tg .tg-dark{background-color:#c0c0c0;border-color:inherit;text-align:left;vertical-align:middle}\n",
    ".tg .tg-llyw{background-color:#efefef;border-color:inherit;text-align:left;vertical-align:middle}\n",
    ".tg .tg-0pky{border-color:inherit;text-align:left;vertical-align:middle}\n",
    "</style>\n",
    "<table class=\"tg\">\n",
    "<thead>\n",
    "<tr>\"\"\"    \n",
    "html_ptail =     \"</tr></thead><tbody>\"\n",
    "html_report_head = html_phead + \"<th class='tg-dark' >Date </th> <th class='tg-dark'>Description</th>\" + html_ptail\n",
    "#\n",
    "html_people_head = html_phead + \"<th class='tg-dark' >Who </th>\"\n",
    "html_people_head += \"<th class='tg-dark' >Balance </th>\"\n",
    "html_people_head += \"<th class='tg-dark' >Coffee </th>\"\n",
    "html_people_head += \"<th class='tg-dark' >Other </th>\"\n",
    "html_people_head += \"<th class='tg-dark' >Cash </th>\"\n",
    "html_people_head += \"<th class='tg-dark' >Days </th>\"\n",
    "html_people_head += html_ptail\n",
    "#\n",
    "tclass = [\"\", \"tg-dark\", \"tg-llyw\"]   "
   ]
  },
  {
   "cell_type": "code",
   "execution_count": null,
   "id": "6dff0318",
   "metadata": {},
   "outputs": [],
   "source": [
    "# validate e-mail\n",
    "\n",
    "def validemail(email):\n",
    "    pat = \"^[a-zA-Z0-9-_]+\\.[a-zA-Z0-9-_]+@[a-zA-Z0-9]+\\.[a-z]{1,3}$\"\n",
    "    if re.match(pat,email):\n",
    "        return True\n",
    "    return False"
   ]
  },
  {
   "cell_type": "code",
   "execution_count": null,
   "id": "198b15c7",
   "metadata": {},
   "outputs": [],
   "source": [
    "def timeconversion(intime):\n",
    "    if isinstance(intime,float):\n",
    "        return datetime.fromtimestamp(intime).strftime(\"%Y-%m-%d\")\n",
    "    else:\n",
    "        return time.mktime(intime.timetuple())"
   ]
  },
  {
   "cell_type": "code",
   "execution_count": null,
   "id": "f8f1fbd6",
   "metadata": {},
   "outputs": [],
   "source": [
    "def daysactive(person):\n",
    "    if 'left' in person.extras:\n",
    "        return np.busday_count(timeconversion(person['started']),timeconversion(person.extras['left']))*person.extras['coeff']\n",
    "    else:\n",
    "        return np.busday_count(timeconversion(person['started']),datetime.now().strftime(\"%Y-%m-%d\"))*person.extras['coeff']"
   ]
  },
  {
   "cell_type": "code",
   "execution_count": null,
   "id": "2648c6d3",
   "metadata": {},
   "outputs": [],
   "source": [
    "def check_people():\n",
    "    global cash\n",
    "    qb = QueryBuilder()\n",
    "    qb.append(Node, filters={\n",
    "        'label': {'in': ['nanotech@coffee_member']}})\n",
    "    options = []\n",
    "    emails = []\n",
    "    for node in qb.all(flat=True):\n",
    "        options.append((node['name'],node))\n",
    "        emails.append(node['email'])\n",
    "    who.options = options\n",
    "    qb = QueryBuilder()\n",
    "    qb.append(CalcFunctionNode, filters={\n",
    "        'label': {'in': ['new_event']}})   \n",
    "    ordered_entries =  sorted([node.outputs.result.get_dict() for node in qb.all(flat=True)], key=lambda d: d['datei'], reverse=True)\n",
    "    personal = {}\n",
    "    # sum of effective days for all members. Absences will be subtracted later\n",
    "    total_days = 0\n",
    "    for person in who.options:\n",
    "        days = daysactive(person[1])\n",
    "        total_days += days\n",
    "        personal[person[0]] = {'coffee':0,'other':0, 'cash':0, 'effectivedays':days,'coeff':person[1].extras['coeff']}\n",
    "    cash = 0\n",
    "    html_report = html_report_head\n",
    "    html_people = html_people_head\n",
    "    total_cost=0\n",
    "    odd = -1\n",
    "    for entry in ordered_entries:\n",
    "        what = entry['event']\n",
    "        if 'cash' in entry['event']:\n",
    "            cash += entry['amount']\n",
    "            if 'Donated' not in what:\n",
    "                personal[entry['person']]['cash'] += entry['amount']\n",
    "        elif 'Bought' in entry['event']:\n",
    "            total_cost += entry['amount']\n",
    "            if 'coffee' in entry['event']:\n",
    "                personal[entry['person']]['coffee'] += entry['amount']\n",
    "            else:\n",
    "                personal[entry['person']]['other'] += entry['amount']\n",
    "        elif 'Absence' in entry['event']:\n",
    "            tosubtract = entry['amount']*personal[entry['person']]['coeff']\n",
    "            personal[entry['person']]['effectivedays'] -= tosubtract\n",
    "            total_days -= tosubtract\n",
    "        \n",
    "        html_report += \"<tr>\"\n",
    "        html_report += f\"<td class={tclass[odd]}> {timeconversion(entry['datei'])} </td>\"\n",
    "        html_report += f\"<td class={tclass[odd]}> {entry['description']} </td>\"\n",
    "        html_report += \"</tr>\" \n",
    "        odd *= -1   \n",
    "     \n",
    "    short_report = [(person,(personal[person]['coffee']+personal[person]['other']+personal[person]['cash'])-((total_cost - cash)*personal[person]['effectivedays'])/total_days,personal[person]['coffee'],personal[person]['other'],personal[person]['cash'],personal[person]['effectivedays']) for person in personal]\n",
    "    short_report = sorted(short_report, key=lambda d: d[1], reverse=True)\n",
    "    for person in short_report:\n",
    "        html_people += \"<tr>\"\n",
    "        html_people += f\"<td class={tclass[odd]}> {person[0]} </td>\"\n",
    "        html_people += f\"<td class={tclass[odd]}> {person[1]:.2f} </td>\"\n",
    "        html_people += f\"<td class={tclass[odd]}> {person[2]:.2f} </td>\"\n",
    "        html_people += f\"<td class={tclass[odd]}> {person[3]:.2f} </td>\"\n",
    "        html_people += f\"<td class={tclass[odd]}> {person[4]:.2f} </td>\"\n",
    "        html_people += f\"<td class={tclass[odd]}> {person[5]:.2f} </td>\"\n",
    "        html_people += \"</tr>\" \n",
    "        odd *= -1\n",
    "    people_html.value = html_people\n",
    "    report_html.value = html_report\n",
    "    cash_html.value = f\"<h3>Available cash: {cash:.2f} CHF</h3>\"\n",
    "    return emails,cash"
   ]
  },
  {
   "cell_type": "code",
   "execution_count": null,
   "id": "972a35cd",
   "metadata": {},
   "outputs": [],
   "source": [
    "display(cash_html)"
   ]
  },
  {
   "cell_type": "markdown",
   "id": "4a3f2334",
   "metadata": {},
   "source": [
    "# Persons"
   ]
  },
  {
   "cell_type": "code",
   "execution_count": null,
   "id": "e1739d67",
   "metadata": {},
   "outputs": [],
   "source": [
    "display(ipw.VBox([people_html,startdate,name,email, add_person,output,]))"
   ]
  },
  {
   "cell_type": "code",
   "execution_count": null,
   "id": "b35c69c2",
   "metadata": {},
   "outputs": [],
   "source": [
    "@calcfunction\n",
    "def new_person(name,email,startdate):\n",
    "    return Dict({'name':name.value,'email':email.value,'started':startdate.value})\n",
    "    \n",
    "def on_add_person_clicked(b):\n",
    "    global emails,cash\n",
    "    with output:\n",
    "        clear_output()\n",
    "        if validemail(email.value) and startdate.value is not None and name.value != '':\n",
    "            if email.value in emails:\n",
    "                print(\"person already present\")\n",
    "            else:\n",
    "                new = new_person(Str(name.value),Str(email.value),Float(timeconversion(startdate.value)))\n",
    "                new.label = 'nanotech@coffee_member'\n",
    "                new.set_extra('coeff',1)\n",
    "                print(\"Added\",new['name'],'starting from: ',timeconversion(new['started']),'pk:',new.pk )\n",
    "                emails.append(email.value)\n",
    "    emails,cash = check_people()\n",
    "            \n",
    "add_person.on_click(on_add_person_clicked)"
   ]
  },
  {
   "cell_type": "markdown",
   "id": "6f351ee3",
   "metadata": {},
   "source": [
    "# Actions"
   ]
  },
  {
   "cell_type": "code",
   "execution_count": null,
   "id": "ea3fa99b",
   "metadata": {},
   "outputs": [],
   "source": [
    "@workfunction\n",
    "def create_action(action):\n",
    "    action.label = 'nanotech@coffee_action'\n",
    "    return action\n",
    "\n",
    "@calcfunction\n",
    "def new_event(person=None,datei=None,datef=None,event=None,description=None,amount=None,kgcoffee=None,available_cash=None):\n",
    "        \n",
    "    if 'Bought' in event.value or 'Added' in event.value:\n",
    "        theamount = np.abs(amount.value)\n",
    "        if 'coffee' in event.value:\n",
    "            return Dict({'person': person['name'], 'datei':datei.value, 'amount':theamount, 'event':event.value,\n",
    "                        'description': f\"{person['name']} bought {kgcoffee.value}kg coffee ({description.value}) for {theamount} CHF\" })\n",
    "        else:    \n",
    "            return Dict({'person': person['name'], 'datei':datei.value, 'amount':theamount, 'event':event.value,\n",
    "                            'description': f\"{person['name']} {event.value} ({description.value}) for {theamount} CHF\" })\n",
    "    elif event.value == 'Donated cash':\n",
    "        theamount = np.abs(amount.value)\n",
    "        return Dict({'person': person['name'], 'datei':datei.value, 'amount':theamount, 'event':event.value,\n",
    "                        'description': f\"{person['name']} donated {theamount} CHF ({description.value}) to the common fund\" })\n",
    "    elif event.value == 'Requested cash':\n",
    "        theamount = np.abs(amount.value)\n",
    "        if amount.value <= available_cash.value +0.01 :\n",
    "            return Dict({'person': person['name'], 'datei':datei.value, 'amount': -1.0*theamount, 'event':event.value,\n",
    "                            'description': f\"{person['name']} received {theamount} CHF from the common fund\" })\n",
    "        else:\n",
    "            return Dict({'person': person['name'], 'datei':datei.value,'amount':0.0,'event':event.value,\n",
    "                            'description': f\"{person['name']} requested {theamount} CHF from the common fund but they are not available. They will not be counted\"})\n",
    "    elif event.value == 'Absence':\n",
    "        theamount = np.busday_count(timeconversion(datei.value),timeconversion(datef.value))\n",
    "        return Dict({'person': person['name'], 'datei':datei.value,'amount':theamount,'event':event.value,\n",
    "                        'description': f\"{person['name']}  entered absence from {timeconversion(datei.value)}  until {timeconversion(datef.value)} ({theamount} days {description.value})\" })\n",
    "    "
   ]
  },
  {
   "cell_type": "code",
   "execution_count": null,
   "id": "c806b8fd",
   "metadata": {},
   "outputs": [],
   "source": [
    "event = ipw.Dropdown(options=[],\n",
    "                     description='Possible actions',style=style, layout=layout)\n",
    "amount = ipw.FloatText(description='CHF',style=style, layout=layout)\n",
    "kgcoffee = ipw.FloatText(description='kg',style=style, layout=layout,value =1)\n",
    "datei_widget = ipw.DatePicker(description='On:',value=datetime.now(),style=style, layout=layout)\n",
    "datef_widget = ipw.DatePicker(description='Till:',value=datetime.now(),style=style, layout=layout)\n",
    "description = ipw.Text(description='Description',style=style, layout=layout)\n",
    "who = ipw.Dropdown(options=[],description='Person',style=style, layout=layout)\n",
    "apply = ipw.Button(description='Apply')\n",
    "\n",
    "def date_is_valid(date,person):\n",
    "    if 'left' in person.extras:\n",
    "        dateleft = person.extras['left']\n",
    "    else:\n",
    "        dateleft = float(3000000000)\n",
    "    return person['started'] - 100000 < date < dateleft + 100000\n",
    "\n",
    "def on_apply_clicked(b):\n",
    "    global emails, cash\n",
    "    with output2:\n",
    "        clear_output()\n",
    "        person = who.value\n",
    "        datei = timeconversion(datei_widget.value)\n",
    "        datef = datei\n",
    "        if 'Absence' in event.value.value:\n",
    "            datef = timeconversion(datef_widget.value)            \n",
    "        kg = 0\n",
    "        if 'coffee' in event.value.value:\n",
    "            kg = kgcoffee.value\n",
    "        if date_is_valid(datei,person) and date_is_valid(datef,person):\n",
    "            what = new_event(person=person,datei=Float(datei),\n",
    "                            datef=Float(datef),\n",
    "                            event=event.value,description=Str(description.value),\n",
    "                             amount=Float(amount.value),\n",
    "                             kgcoffee=Float(kg),\n",
    "                             available_cash=Float(cash)\n",
    "                            )\n",
    "            print(\"Added event: \",what['description']) \n",
    "        else:\n",
    "            print(\"Date is not valid for this person\") \n",
    "        emails,cash = check_people() \n",
    "apply.on_click(on_apply_clicked)\n",
    "\n",
    "def on_event_change(change):\n",
    "    with output1:\n",
    "        clear_output()\n",
    "        if 'Absence' in change['new'].value:\n",
    "            todisplay = [who,datei_widget,datef_widget,description,info_html]\n",
    "            description.value =''\n",
    "            kgcoffee.value=0\n",
    "            amount.value=0\n",
    "            info_html.value=''\n",
    "        elif 'Bought coffee' == change['new'].value:\n",
    "            todisplay = [who,datei_widget,kgcoffee,description,amount,info_html]\n",
    "            kgcoffee.value=2\n",
    "            description.value='Konstanz: mondo verde'\n",
    "            amount.value=60\n",
    "            info_html.value=''\n",
    "        else:\n",
    "            description.value=''\n",
    "            amount.value=0\n",
    "            kgcoffee.value=0\n",
    "            todisplay = [who,datei_widget,description,amount,info_html]\n",
    "            info_html.value='To add/request/donate cash, send/request the amount via Twint at +41 76 53 25 330 <br> Donated cash does not change the balance of the donor, but it is added to the common fund'\n",
    "            \n",
    "        display(ipw.VBox(todisplay))\n",
    "        \n",
    "event.observe(on_event_change,names='value')"
   ]
  },
  {
   "cell_type": "code",
   "execution_count": null,
   "id": "804c698d",
   "metadata": {},
   "outputs": [],
   "source": [
    "qb = QueryBuilder()\n",
    "qb.append(Node, filters={\n",
    "    'label': {'in': ['nanotech@coffee_action']}})\n",
    "needed_actions=['Bought coffee','Bought accessory','Bought cleaning stuff','Donated cash', 'Added cash','Requested cash','Absence']\n",
    "existing_actions = {}    \n",
    "for node in qb.all(flat=True):\n",
    "    existing_actions[node.value]=node\n",
    "    #print(node.value,node.pk)\n",
    "for action in needed_actions:\n",
    "    if action not in existing_actions:\n",
    "        existing_actions[action]=create_action(Str(action))\n",
    "event.options = list(existing_actions.items())\n"
   ]
  },
  {
   "cell_type": "code",
   "execution_count": null,
   "id": "47b9e78a",
   "metadata": {},
   "outputs": [],
   "source": [
    "emails,cash = check_people()\n",
    "cash_html.value = f\"<h3>Available cash: {cash:.2f} CHF</h3>\"\n",
    "display(ipw.VBox([event,output1,apply,output2]))"
   ]
  },
  {
   "cell_type": "markdown",
   "id": "63cfc017",
   "metadata": {},
   "source": [
    "# Report"
   ]
  },
  {
   "cell_type": "code",
   "execution_count": null,
   "id": "8e2d3b33",
   "metadata": {},
   "outputs": [],
   "source": [
    "display(report_html)"
   ]
  },
  {
   "cell_type": "code",
   "execution_count": null,
   "id": "98454832",
   "metadata": {},
   "outputs": [],
   "source": [
    "if False :\n",
    "    qb = QueryBuilder()\n",
    "    qb.append(Node, filters={\n",
    "        'label': {'in': ['nanotech@coffee_member']}})\n",
    "    for node in qb.all(flat=True):\n",
    "        print(node.pk,node.get_dict())"
   ]
  },
  {
   "cell_type": "code",
   "execution_count": null,
   "id": "0a0b662b",
   "metadata": {},
   "outputs": [],
   "source": [
    "if False :\n",
    "    qb = QueryBuilder()\n",
    "    qb.append(Node, filters={\n",
    "        'label': {'in': ['nanotech@coffee_action']}})\n",
    "    for node in qb.all(flat=True):\n",
    "        print(node.pk, node.value)"
   ]
  },
  {
   "cell_type": "code",
   "execution_count": null,
   "id": "a365b80f",
   "metadata": {},
   "outputs": [],
   "source": [
    "if False :\n",
    "    qb = QueryBuilder()\n",
    "    qb.append(Node, filters={\n",
    "        'label': {'in': ['new_event']}})\n",
    "    for node in qb.all(flat=True):\n",
    "        print(node.pk, node.outputs.result['event'])"
   ]
  },
  {
   "cell_type": "code",
   "execution_count": null,
   "id": "315f60b0",
   "metadata": {},
   "outputs": [],
   "source": [
    "#timeconversion(float(3000000000 - 100000))"
   ]
  },
  {
   "cell_type": "code",
   "execution_count": null,
   "id": "4f1eab9e",
   "metadata": {},
   "outputs": [],
   "source": []
  }
 ],
 "metadata": {
  "kernelspec": {
   "display_name": "Python 3 (ipykernel)",
   "language": "python",
   "name": "python3"
  },
  "language_info": {
   "codemirror_mode": {
    "name": "ipython",
    "version": 3
   },
   "file_extension": ".py",
   "mimetype": "text/x-python",
   "name": "python",
   "nbconvert_exporter": "python",
   "pygments_lexer": "ipython3",
   "version": "3.9.13"
  },
  "vscode": {
   "interpreter": {
    "hash": "d4d1e4263499bec80672ea0156c357c1ee493ec2b1c70f0acce89fc37c4a6abe"
   }
  }
 },
 "nbformat": 4,
 "nbformat_minor": 5
}
