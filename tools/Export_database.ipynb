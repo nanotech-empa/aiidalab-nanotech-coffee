{
 "cells": [
  {
   "cell_type": "code",
   "execution_count": 1,
   "id": "2015ed1d",
   "metadata": {},
   "outputs": [
    {
     "data": {
      "application/json": {
       "current_state": "Loaded AiiDA DB environment - profile name: default."
      },
      "text/html": [
       "<p>Loaded AiiDA DB environment - profile name: default.</p>"
      ],
      "text/latex": [
       "Loaded AiiDA DB environment - profile name: default.\n"
      ],
      "text/plain": [
       "Loaded AiiDA DB environment - profile name: default.\n"
      ]
     },
     "execution_count": 1,
     "metadata": {},
     "output_type": "execute_result"
    }
   ],
   "source": [
    "%load_ext aiida\n",
    "%aiida"
   ]
  },
  {
   "cell_type": "code",
   "execution_count": 2,
   "id": "40805a49",
   "metadata": {},
   "outputs": [],
   "source": [
    "from aiida import common, orm"
   ]
  },
  {
   "cell_type": "code",
   "execution_count": 6,
   "id": "d1f338dd",
   "metadata": {},
   "outputs": [
    {
     "data": {
      "text/plain": [
       "QueryBuilder(path=[{'entity_type': '', 'orm_base': 'node', 'tag': 'node_1', 'joining_keyword': None, 'joining_value': None, 'edge_tag': None, 'outerjoin': False}], filters={'node_1': {'node_type': {'like': '%'}, 'or': [{'label': {'==': 'create_action'}}, {'label': {'==': 'new_event'}}, {'label': {'==': 'new_person'}}]}}, project={'node_1': []}, order_by=[], limit=None, offset=None, distinct=False)"
      ]
     },
     "execution_count": 6,
     "metadata": {},
     "output_type": "execute_result"
    }
   ],
   "source": [
    "qb = orm.QueryBuilder()\n",
    "qb.append(\n",
    "    orm.Node,\n",
    "    filters={'or':[{'label':{'==':'create_action'}},{'label':{'==':'new_event'}},{'label':{'==':'new_person'}}]},\n",
    ")"
   ]
  },
  {
   "cell_type": "code",
   "execution_count": 9,
   "id": "893d0d63",
   "metadata": {},
   "outputs": [],
   "source": [
    "all_pks=[]\n",
    "for node in qb.all(flat=True):\n",
    "    all_pks.append(node.pk)"
   ]
  },
  {
   "cell_type": "code",
   "execution_count": 15,
   "id": "781ad0be",
   "metadata": {},
   "outputs": [
    {
     "ename": "SyntaxError",
     "evalue": "invalid syntax (45535388.py, line 1)",
     "output_type": "error",
     "traceback": [
      "\u001b[0;36m  File \u001b[0;32m\"/tmp/ipykernel_3230/45535388.py\"\u001b[0;36m, line \u001b[0;32m1\u001b[0m\n\u001b[0;31m    print(\" \".join[k for k in all_pks])\u001b[0m\n\u001b[0m                     ^\u001b[0m\n\u001b[0;31mSyntaxError\u001b[0m\u001b[0;31m:\u001b[0m invalid syntax\n"
     ]
    }
   ],
   "source": [
    "print(\" \".join[k for k in all_pks])"
   ]
  },
  {
   "cell_type": "code",
   "execution_count": 13,
   "id": "c2d9d10d",
   "metadata": {},
   "outputs": [
    {
     "name": "stdout",
     "output_type": "stream",
     "text": [
      "Usage: verdi archive create [OPTIONS] [--] OUTPUT_FILE\n",
      "Try 'verdi archive create --help' for help.\n",
      "\n",
      "Error: Invalid value for '-N' / '--nodes': no Node found with LABEL<all_pks>: No result was found\n"
     ]
    }
   ],
   "source": [
    "verdi archive create coffe_backup.aiida -N all_pks"
   ]
  },
  {
   "cell_type": "code",
   "execution_count": null,
   "id": "ce779aca",
   "metadata": {},
   "outputs": [],
   "source": []
  }
 ],
 "metadata": {
  "kernelspec": {
   "display_name": "Python 3 (ipykernel)",
   "language": "python",
   "name": "python3"
  },
  "language_info": {
   "codemirror_mode": {
    "name": "ipython",
    "version": 3
   },
   "file_extension": ".py",
   "mimetype": "text/x-python",
   "name": "python",
   "nbconvert_exporter": "python",
   "pygments_lexer": "ipython3",
   "version": "3.9.13"
  }
 },
 "nbformat": 4,
 "nbformat_minor": 5
}
