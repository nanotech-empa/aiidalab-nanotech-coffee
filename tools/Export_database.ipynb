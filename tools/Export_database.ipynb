{
 "cells": [
  {
   "cell_type": "code",
   "execution_count": null,
   "id": "2015ed1d",
   "metadata": {},
   "outputs": [],
   "source": [
    "%load_ext aiida\n",
    "%aiida"
   ]
  },
  {
   "cell_type": "code",
   "execution_count": null,
   "id": "40805a49",
   "metadata": {},
   "outputs": [],
   "source": [
    "from aiida import common, orm"
   ]
  },
  {
   "cell_type": "code",
   "execution_count": null,
   "id": "d1f338dd",
   "metadata": {},
   "outputs": [],
   "source": [
    "qb = orm.QueryBuilder()\n",
    "qb.append(\n",
    "    orm.Node,\n",
    "    filters={'or':[{'label':{'==':'create_action'}},{'label':{'==':'new_person'}}]},\n",
    "#project='pk'\n",
    ")"
   ]
  },
  {
   "cell_type": "code",
   "execution_count": null,
   "id": "893d0d63",
   "metadata": {},
   "outputs": [],
   "source": [
    "l=qb.all(flat=True)"
   ]
  },
  {
   "cell_type": "code",
   "execution_count": null,
   "id": "781ad0be",
   "metadata": {},
   "outputs": [],
   "source": [
    "l"
   ]
  },
  {
   "cell_type": "code",
   "execution_count": null,
   "id": "c2d9d10d",
   "metadata": {},
   "outputs": [],
   "source": []
  }
 ],
 "metadata": {
  "kernelspec": {
   "display_name": "Python 3 (ipykernel)",
   "language": "python",
   "name": "python3"
  },
  "language_info": {
   "codemirror_mode": {
    "name": "ipython",
    "version": 3
   },
   "file_extension": ".py",
   "mimetype": "text/x-python",
   "name": "python",
   "nbconvert_exporter": "python",
   "pygments_lexer": "ipython3",
   "version": "3.9.13"
  }
 },
 "nbformat": 4,
 "nbformat_minor": 5
}
