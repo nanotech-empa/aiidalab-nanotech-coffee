{
 "cells": [
  {
   "cell_type": "code",
   "execution_count": null,
   "id": "2015ed1d",
   "metadata": {},
   "outputs": [],
   "source": [
    "%load_ext aiida\n",
    "%aiida"
   ]
  },
  {
   "cell_type": "code",
   "execution_count": null,
   "id": "40805a49",
   "metadata": {},
   "outputs": [],
   "source": [
    "from aiida import common, orm\n",
    "from datetime import datetime"
   ]
  },
  {
   "cell_type": "code",
   "execution_count": null,
   "id": "c6ce7064",
   "metadata": {},
   "outputs": [],
   "source": [
    "today=datetime.now().strftime(\"%Y-%m-%d_%H:%M:%S\")\n",
    "filename = f\"coffe_backup_{today}.aiida\""
   ]
  },
  {
   "cell_type": "code",
   "execution_count": null,
   "id": "d1f338dd",
   "metadata": {},
   "outputs": [],
   "source": [
    "qb = orm.QueryBuilder()\n",
    "qb.append(\n",
    "    orm.Node,\n",
    "    filters={'or':[{'label':{'==':'create_action'}},{'label':{'==':'new_event'}},{'label':{'==':'new_person'}}]},\n",
    ")"
   ]
  },
  {
   "cell_type": "code",
   "execution_count": null,
   "id": "893d0d63",
   "metadata": {},
   "outputs": [],
   "source": [
    "all_pks=[]\n",
    "for node in qb.all(flat=True):\n",
    "    all_pks.append(node.pk)"
   ]
  },
  {
   "cell_type": "code",
   "execution_count": null,
   "id": "781ad0be",
   "metadata": {},
   "outputs": [],
   "source": [
    "all_pks_str = \" \".join([str(k) for k in all_pks])"
   ]
  },
  {
   "cell_type": "code",
   "execution_count": null,
   "id": "c2d9d10d",
   "metadata": {},
   "outputs": [],
   "source": [
    "!verdi archive create {filename} -N {all_pks_str}"
   ]
  },
  {
   "cell_type": "code",
   "execution_count": null,
   "id": "ce779aca",
   "metadata": {},
   "outputs": [],
   "source": []
  }
 ],
 "metadata": {
  "kernelspec": {
   "display_name": "Python 3 (ipykernel)",
   "language": "python",
   "name": "python3"
  },
  "language_info": {
   "codemirror_mode": {
    "name": "ipython",
    "version": 3
   },
   "file_extension": ".py",
   "mimetype": "text/x-python",
   "name": "python",
   "nbconvert_exporter": "python",
   "pygments_lexer": "ipython3",
   "version": "3.9.13"
  }
 },
 "nbformat": 4,
 "nbformat_minor": 5
}
