{
 "cells": [
  {
   "cell_type": "code",
   "execution_count": 13,
   "id": "2015ed1d",
   "metadata": {},
   "outputs": [
    {
     "name": "stdout",
     "output_type": "stream",
     "text": [
      "The aiida extension is already loaded. To reload it, use:\n",
      "  %reload_ext aiida\n"
     ]
    },
    {
     "data": {
      "application/json": {
       "current_state": "Loaded AiiDA DB environment - profile name: default."
      },
      "text/html": [
       "<p>Loaded AiiDA DB environment - profile name: default.</p>"
      ],
      "text/latex": [
       "Loaded AiiDA DB environment - profile name: default.\n"
      ],
      "text/plain": [
       "Loaded AiiDA DB environment - profile name: default.\n"
      ]
     },
     "execution_count": 13,
     "metadata": {},
     "output_type": "execute_result"
    }
   ],
   "source": [
    "%load_ext aiida\n",
    "%aiida"
   ]
  },
  {
   "cell_type": "code",
   "execution_count": 14,
   "id": "40805a49",
   "metadata": {},
   "outputs": [],
   "source": [
    "from aiida import common, orm\n",
    "from datetime import datetime"
   ]
  },
  {
   "cell_type": "code",
   "execution_count": 19,
   "id": "d1f338dd",
   "metadata": {},
   "outputs": [
    {
     "data": {
      "text/plain": [
       "QueryBuilder(path=[{'entity_type': '', 'orm_base': 'node', 'tag': 'node_1', 'joining_keyword': None, 'joining_value': None, 'edge_tag': None, 'outerjoin': False}], filters={'node_1': {'node_type': {'like': '%'}, 'or': [{'label': {'==': 'nanotech@coffee_action'}}, {'label': {'==': 'create_action'}}, {'label': {'==': 'new_event'}}, {'label': {'==': 'new_person'}}]}}, project={'node_1': []}, order_by=[], limit=None, offset=None, distinct=False)"
      ]
     },
     "execution_count": 19,
     "metadata": {},
     "output_type": "execute_result"
    }
   ],
   "source": [
    "qb = orm.QueryBuilder()\n",
    "qb.append(\n",
    "    orm.Node,\n",
    "    filters={'or':[{'label':{'==':'nanotech@coffee_action'}},{'label':{'==':'create_action'}},{'label':{'==':'new_event'}},{'label':{'==':'new_person'}}]},\n",
    ")"
   ]
  },
  {
   "cell_type": "code",
   "execution_count": 20,
   "id": "893d0d63",
   "metadata": {},
   "outputs": [],
   "source": [
    "all_pks=[]\n",
    "for node in qb.all(flat=True):\n",
    "    all_pks.append(node.pk)"
   ]
  },
  {
   "cell_type": "code",
   "execution_count": 21,
   "id": "781ad0be",
   "metadata": {},
   "outputs": [],
   "source": [
    "all_pks_str = \" \".join([str(k) for k in all_pks])"
   ]
  },
  {
   "cell_type": "code",
   "execution_count": 22,
   "id": "c2d9d10d",
   "metadata": {},
   "outputs": [
    {
     "name": "stdout",
     "output_type": "stream",
     "text": [
      "5429 5687 5731 5798 5842 5865 5945 6037 6039 6275 6277\n"
     ]
    }
   ],
   "source": [
    "print(all_pks_str)"
   ]
  },
  {
   "cell_type": "code",
   "execution_count": null,
   "id": "ce779aca",
   "metadata": {},
   "outputs": [],
   "source": []
  }
 ],
 "metadata": {
  "kernelspec": {
   "display_name": "Python 3 (ipykernel)",
   "language": "python",
   "name": "python3"
  },
  "language_info": {
   "codemirror_mode": {
    "name": "ipython",
    "version": 3
   },
   "file_extension": ".py",
   "mimetype": "text/x-python",
   "name": "python",
   "nbconvert_exporter": "python",
   "pygments_lexer": "ipython3",
   "version": "3.9.13"
  }
 },
 "nbformat": 4,
 "nbformat_minor": 5
}
